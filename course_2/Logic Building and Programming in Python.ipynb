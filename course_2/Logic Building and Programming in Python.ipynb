{
 "cells": [
  {
   "cell_type": "markdown",
   "metadata": {},
   "source": [
    "# Before we begin\n",
    "Well python is a programming language, and as such we should learn every programming language by coding it. That is not the best way but the only way to learn programming. And this module will also be no different. I hope everyone has followed all the installation instructions and they have jupyter up and running. At this point, you should be reading this in a jupyter notebook window in your browser. If that is the case then congratulations, you have python and jupyter up and running in your system."
   ]
  },
  {
   "cell_type": "markdown",
   "metadata": {},
   "source": [
    "So lets get up and running with python. Don't worry, even if you haven't coded a single line in your life, you will be toying with python syntax in no time. "
   ]
  },
  {
   "cell_type": "markdown",
   "metadata": {},
   "source": [
    "## Hello Python:\n",
    "As the custom dictates, we will start our journey by saying hello to everyone. so lets begin"
   ]
  },
  {
   "cell_type": "code",
   "execution_count": 1,
   "metadata": {},
   "outputs": [
    {
     "name": "stdout",
     "output_type": "stream",
     "text": [
      "Hello everyone, what's up.\n",
      "who is ready for a blast with python?\n"
     ]
    }
   ],
   "source": [
    "print(\"Hello everyone, what's up.\\nwho is ready for a blast with python?\")"
   ]
  },
  {
   "cell_type": "markdown",
   "metadata": {},
   "source": [
    "Well I conveniently left out a few details. First things first, python is a scripting language. Now this is a complex topic in its own and all you need to know at this point of time is that scripting languages are executed line by line. So if I have 100 lines in a file filled with python statements(Yes, the line you just executed above is a python 'statement', keep up with the terms, for there will be a lot in this course), statement no 1 will execute first, then statement no 2 and so on. There is no compilation of the whole code at once and stuff like that. This also means that we can put only that code which is absolutely necessary strip away the extra fat. This is the reason python programs are so short.\n",
    "In a manner of speaking, you can create a python program with just one short line of code. The above line is a perfect example of this. \n",
    "Congratulations. You have just created your first program"
   ]
  },
  {
   "cell_type": "markdown",
   "metadata": {},
   "source": [
    "Just one more thing, please do not just shift+enter through the entire notebook. These notebooks are meant to teach you and the only way you can learn is by changing whatever you feel like changing and then experiencing the results. As a rule of thumb, if you haven't broken the code atleast 5 times, then you are not familiar with it. The rest is upto you"
   ]
  },
  {
   "cell_type": "markdown",
   "metadata": {},
   "source": [
    "## Your First Program:\n",
    "Now a single line program might be a bit too much to take in. So lets go the normal path,  and this is the first and the last time I am taking you through the normal path. Let's have a proper python program, and see how this executes. Type these lines in your favorite text editor( TYPE, DO NOT COPY PASTE )\n",
    "```python\n",
    "print(\"Hi, How are you\")\n",
    "print(\"This is a simple python program\")\n",
    "print(\"This only has print statements because that's all you know at the moment\")\n",
    "print(\"Don't worry, you will learn the rest of python in no time\")\n",
    "```\n",
    "\n",
    "Save this file as first.py in any folder you like and then navigate to that folder in terminal if you are on linux or mac, or powershell if you are on windows.\n",
    "Now run the code by typing this\n",
    "```bash\n",
    "python3 first.py\n",
    "```\n",
    "What is the output?"
   ]
  },
  {
   "cell_type": "markdown",
   "metadata": {},
   "source": [
    "Now put a # in the beginning of any line. Save it and run it again. See what happens\n",
    "You will notice that that particular line does not execute. This is because the python interpreter treats every line starting with # as comments. These comments are normally used to put text in code, mostly to explain a particular line of code to the reader. These can also be used in testing which will be explained later. For now, if you want to put anything in code which you don't want to be executed, put a start in the beginning"
   ]
  },
  {
   "cell_type": "markdown",
   "metadata": {},
   "source": [
    "## Jupyter or Python Shell or Running it directly\n",
    "The way you executed first.py, you ran the program directly from the terminal(or PowerShell if you please). Any way you choose going further, either putting it into a .py file and executing it directly, or by hitting each individual command in the python shell( The)"
   ]
  },
  {
   "cell_type": "code",
   "execution_count": 2,
   "metadata": {},
   "outputs": [
    {
     "name": "stdout",
     "output_type": "stream",
     "text": [
      "print this shubham\n"
     ]
    }
   ],
   "source": [
    "#This is to show that comments can be used to guide you in code\n",
    "print(\"print this\",\"shubham\") #comments can be put anywhere, python will treat anything after # as comment and won't execute"
   ]
  },
  {
   "cell_type": "markdown",
   "metadata": {},
   "source": [
    "What happened here, python printed shubham instead of name, try changing something and see what happens"
   ]
  },
  {
   "cell_type": "markdown",
   "metadata": {},
   "source": [
    "Now explaining this in very simple way, the print statement can print more than one arguments. These arguments can be anything as long as they have something to print. If there is nothing to print, python will just print none. These arguments are separated by commas inside the parentheses, and print statement can handle any no of parameteres."
   ]
  },
  {
   "cell_type": "markdown",
   "metadata": {},
   "source": [
    "## Mathematics and Python\n",
    "Python is widely used in mathematical analysis. Infact it is one of the most popular languages to be used for mathematical analysis. There are many popular libraries for mathematical analysis, and you will learn about them later. But for now lets introduce the most common mathematical operators:\n",
    "\n",
    "    + plus\n",
    "    - minus\n",
    "    / slash [for division]\n",
    "    * asterisk [for multiplication]\n",
    "    % percent [for remainder]\n",
    "    < less-than\n",
    "    > greater-than\n",
    "    <= less-than-equal\n",
    "    >= greater-than-equal\n",
    "    == equality \n",
    " \n",
    "Now one important distinction before we proceed further. Python treats everything as objects, now the concept of objects will be introduced later, but two important objects that we will used are strings and integers. Now integers are your daily real numbers without decimals. Strings can contain anything from alphabets to integers. In order to perform mathematical operations, we need integers, so that will mean no inverted commas(\" or ') around the numbers. Check out the following statements\n"
   ]
  },
  {
   "cell_type": "code",
   "execution_count": 3,
   "metadata": {},
   "outputs": [
    {
     "name": "stdout",
     "output_type": "stream",
     "text": [
      "This is addition, 6 + 2 =  8\n",
      "This is subtraction, 6 - 2 =  4\n",
      "This is multiplication, 6 * 2 =  12\n",
      "This is division, 6 / 2 =  3.0\n",
      "This is comparison, 6 < 2 =  False\n",
      "This is comparison, 6 > 2 =  True\n",
      "This is remainder, 5 % 2 =  1\n",
      "This is equality,5 == 5 True\n"
     ]
    }
   ],
   "source": [
    "print(\"This is addition, 6 + 2 = \",6+2)\n",
    "print(\"This is subtraction, 6 - 2 = \",6-2)\n",
    "print(\"This is multiplication, 6 * 2 = \",6*2)\n",
    "print(\"This is division, 6 / 2 = \",6/2)\n",
    "print(\"This is comparison, 6 < 2 = \",6<2)\n",
    "print(\"This is comparison, 6 > 2 = \",6>2)\n",
    "print(\"This is remainder, 5 % 2 = \",5%2)\n",
    "print(\"This is equality,5 == 5\",5==5)"
   ]
  },
  {
   "cell_type": "markdown",
   "metadata": {},
   "source": [
    "So go ahead and play with these for a while. Remember, the more you play here, the more you will understand"
   ]
  },
  {
   "cell_type": "markdown",
   "metadata": {},
   "source": [
    "## Variables:\n",
    "Now you can print things with print and you can do math. The next step is to learn about variables. In programming, a variable is nothing more than a name for something, just like my name or your name. Programmers use these variable names to make their code read more like English and because they have lousy memories. If they didn't use good names for things in their software, they'd get lost when they tried to read their code again."
   ]
  },
  {
   "cell_type": "code",
   "execution_count": 4,
   "metadata": {},
   "outputs": [],
   "source": [
    "year = 2015\n",
    "place = \"Hyderabad\"\n",
    "temperature = 34.5\n",
    "is_it_day = True # You can make it false depending upon the time you are reading this\n",
    "#Now lets print these variables"
   ]
  },
  {
   "cell_type": "code",
   "execution_count": 5,
   "metadata": {},
   "outputs": [
    {
     "name": "stdout",
     "output_type": "stream",
     "text": [
      "2015\n",
      "Hyderabad\n",
      "34.5\n",
      "True\n"
     ]
    }
   ],
   "source": [
    "print(year)\n",
    "print(place)\n",
    "print(temperature)\n",
    "print(is_it_day)"
   ]
  },
  {
   "cell_type": "markdown",
   "metadata": {},
   "source": [
    "Now here, year is a variable holding integer, place holds a string, temperature holds a float, which is a real number with decimals, if you don't provide a decimal, python will treat it as an integer. is_it_day is special for two reasons, firstly because it has underscores in the name, and secondly it holds a very special type of integer called a boolean value, which can either be True or False. Remember when you type it in exactly this way, then only python will treat it as a boolean.\n",
    "    Now one other thing that might confuse you is the = and == operator. The = operator is used for assigning values to variables, while the == is the equality operator which checks the equality of two values"
   ]
  },
  {
   "cell_type": "markdown",
   "metadata": {},
   "source": [
    "### Formatting Strings\n",
    "Formattting strings means printing strings in the way we want to. We can embed variables in them, decide the no of decimals in a float no inside the string and much more. Just enclose the variable name in {} and you are good to go. There are other ways also to format strings, but this is the easiest. In order to mark the string as formatted string, the letter f has to be put in the beginning of the string. This f should be before the inverted commas."
   ]
  },
  {
   "cell_type": "code",
   "execution_count": 6,
   "metadata": {},
   "outputs": [
    {
     "name": "stdout",
     "output_type": "stream",
     "text": [
      "Hyderabad in 2015 was pretty hot, temperature lowest at 34.5\n"
     ]
    }
   ],
   "source": [
    "print(f'{place} in {year} was pretty hot, temperature lowest at {temperature}')"
   ]
  },
  {
   "cell_type": "markdown",
   "metadata": {},
   "source": [
    "Another way of formatting string is shown below:"
   ]
  },
  {
   "cell_type": "code",
   "execution_count": 20,
   "metadata": {},
   "outputs": [
    {
     "name": "stdout",
     "output_type": "stream",
     "text": [
      "The value of pi to 5 decimal digits is 3.14, to 10 digits is 3.1415926536\n"
     ]
    }
   ],
   "source": [
    "pi = 3.1415926535897932384626433832795028841971693993751058209749445923078164062\n",
    "print('The value of pi to 5 decimal digits is {:.2f}, to 10 digits is {:.10f}'.format(pi,pi))"
   ]
  },
  {
   "cell_type": "code",
   "execution_count": 21,
   "metadata": {},
   "outputs": [
    {
     "name": "stdout",
     "output_type": "stream",
     "text": [
      "\tI'm tabbed in.\n",
      "I'm split\n",
      "on a line.\n",
      "I'm \\ a \\ cat.\n",
      "\n",
      "I'll do a list:\n",
      "\t* Cat food\n",
      "\t* Fishies\n",
      "\t* Catnip\n",
      "\t* Grass\n",
      "\n"
     ]
    }
   ],
   "source": [
    "tabby_cat = \"\\tI'm tabbed in.\"\n",
    "persian_cat = \"I'm split\\non a line.\"\n",
    "backslash_cat = \"I'm \\\\ a \\\\ cat.\"\n",
    "\n",
    "fat_cat = \"\"\"\n",
    "I'll do a list:\n",
    "\\t* Cat food\n",
    "\\t* Fishies\n",
    "\\t* Catnip\\n\\t* Grass\n",
    "\"\"\"\n",
    "print(tabby_cat)\n",
    "print(persian_cat)\n",
    "print(backslash_cat)\n",
    "print(fat_cat)"
   ]
  },
  {
   "cell_type": "markdown",
   "metadata": {},
   "source": [
    "### Escape Sequences\n",
    "What you have seen above are called escape sequesnces, two letter sequences which begin with backslash(\\) and another character. The python interpreter treats them differently. Here is a list of the most commomly used escape sequences in python.\n",
    "Escape What it does:\n",
    "    - \\\\   Backslash (\\)\n",
    "    - \\'   Single-quote (')\n",
    "    - \\\"   Double-quote (\")\n",
    "    - \\a   ASCII bell (BEL)\n",
    "    - \\b   ASCII backspace (BS)\n",
    "    - \\f   ASCII formfeed (FF)\n",
    "    - \\n   ASCII linefeed (LF)\n",
    "    - \\N{name}   Character named name in the Unicode database (Unicode only)\n",
    "    - \\r   Carriage return (CR)\n",
    "    - \\t   Horizontal tab (TAB)\n",
    "    - \\uxxxx   Character with 16-bit hex value xxxx\n",
    "    - \\Uxxxxxxxx   Character with 32-bit hex value xxxxxxxx\n",
    "    - \\v   ASCII vertical tab (VT)\n",
    "    - \\000   Character with octal value 000\n",
    "    - \\xhh   Character with hex value hh"
   ]
  },
  {
   "cell_type": "markdown",
   "metadata": {},
   "source": [
    "### Input and Output\n",
    "Taking inputs and sending outputs are very important in any programming languages. This is how any program interacts with humans or any other program for that matter. There are multiple ways in which we can take inputs and give outputs in python, or any programming language for that matter. One of them in taking inputs and sending outputs to and from the terminal. Now we have been using the print statement to print output to the terminal(Or Jupyter notebook) so you already know how to do that. Now let me show you how to take inputs from the terminal"
   ]
  },
  {
   "cell_type": "code",
   "execution_count": 22,
   "metadata": {},
   "outputs": [
    {
     "name": "stdout",
     "output_type": "stream",
     "text": [
      "Please enter your name: shubham\n",
      "The name entered is shubham\n"
     ]
    }
   ],
   "source": [
    "# the input statements prints a 'prompt' at the screen asking for input, and then returns the characters\n",
    "# entered as a string. That string has to be assigned to a variable to be used\n",
    "name = input(\"Please enter your name: \")\n",
    "print(f\"The name entered is {name}\")"
   ]
  },
  {
   "cell_type": "markdown",
   "metadata": {},
   "source": [
    "Depending upon whether you are using terminal or jupyter, the prompt display might be different, but they work exactly the same everywhere. The input statement takes a string as an argument, displays this argument beore taking the input. After the user has typed in the input, he/she has to press enter to submit it. The input statement takes the input recieved and returns it as a string. This part is really important.\n",
    "Input statement returns everything as a string, even integers supplied after the prompt are treated as string. Now in order to take integer or float, you will have to convert them manually. These are explained below:"
   ]
  },
  {
   "cell_type": "code",
   "execution_count": 24,
   "metadata": {},
   "outputs": [
    {
     "name": "stdout",
     "output_type": "stream",
     "text": [
      "Enter the cost price of the item: 50\n",
      "Enter the selling price of the item: 75\n",
      "The profit percentage is 50.00%\n"
     ]
    }
   ],
   "source": [
    "# Profit percentage calculator\n",
    "cp = int(input(\"Enter the cost price of the item: \"))\n",
    "sp = int(input(\"Enter the selling price of the item: \"))\n",
    "profit = sp - cp\n",
    "profit_percentage = (profit/cp)*100\n",
    "print(\"The profit percentage is {:.2f} %\".format(profit_percentage))"
   ]
  },
  {
   "cell_type": "markdown",
   "metadata": {},
   "source": [
    "In the above example, we supplied a prompt string to each of the input statement to be asked at the terminal. The input statement returns a string which is then converted into an integer by the int function. This int function is a built-in function(aka BIFs), created and maintained by python. So in input and print. Python comes with a ton of these. Check it out on https://docs.python.org/3/library/functions.html"
   ]
  },
  {
   "cell_type": "markdown",
   "metadata": {},
   "source": [
    "### Conditionals\n",
    "We have to make decisons while creating a program. What if the value entered is greater than the threshold. What happens if the user chooses the third option, and how will you give the user the these options? This is where the conditionals come in. There are mainly two conditinals, the if statement and the switch case statement. lets start with the if statement"
   ]
  },
  {
   "cell_type": "code",
   "execution_count": 3,
   "metadata": {},
   "outputs": [
    {
     "name": "stdout",
     "output_type": "stream",
     "text": [
      "Enter a value: 10\n",
      "The value entered is greater than 10\n"
     ]
    }
   ],
   "source": [
    "value = int(input(\"Enter a value: \"))\n",
    "if value >= 10:\n",
    "    print(\"The value entered is greater than 10\")\n",
    "else:\n",
    "    print(\"The value entered is less than 10\")"
   ]
  },
  {
   "cell_type": "markdown",
   "metadata": {},
   "source": [
    "See a problem in that logic, the program prints the value entered is greater than 10 even if the value is exactly 10. Lets modify it a bit. You will understand what is going on"
   ]
  },
  {
   "cell_type": "code",
   "execution_count": 14,
   "metadata": {},
   "outputs": [
    {
     "name": "stdout",
     "output_type": "stream",
     "text": [
      "Enter a value: 15\n",
      "Value entered is greater than 10\n"
     ]
    }
   ],
   "source": [
    "value = int(input(\"Enter a value: \"))\n",
    "if value > 10:\n",
    "    print(\"Value entered is greater than 10\")\n",
    "elif value == 10:\n",
    "    print(\"Value entered is exactly 10\")\n",
    "else:\n",
    "    print(\"Value entered is less than 10\")"
   ]
  },
  {
   "cell_type": "markdown",
   "metadata": {},
   "source": [
    "Here, the elif statement stands for else if. This puts another conditon in the if suite(Yeah, the block of code indented in the if statement is called the if suite, every indented block of code is a suite in pyhton, just nomenclature)"
   ]
  },
  {
   "cell_type": "code",
   "execution_count": null,
   "metadata": {},
   "outputs": [],
   "source": []
  }
 ],
 "metadata": {
  "kernelspec": {
   "display_name": "ai_center",
   "language": "python",
   "name": "ai_center"
  },
  "language_info": {
   "codemirror_mode": {
    "name": "ipython",
    "version": 3
   },
   "file_extension": ".py",
   "mimetype": "text/x-python",
   "name": "python",
   "nbconvert_exporter": "python",
   "pygments_lexer": "ipython3",
   "version": "3.8.2"
  }
 },
 "nbformat": 4,
 "nbformat_minor": 4
}
