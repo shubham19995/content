{
 "cells": [
  {
   "cell_type": "markdown",
   "metadata": {},
   "source": [
    "# Before we begin\n",
    "Well python is a programming language, and as such we should learn every programming language by coding it. That is not the best way but the only way to learn programming. And this module will also be no different. I hope everyone has followed all the installation instructions and they have jupyter up and running. At this point, you should be reading this in a jupyter notebook window in your browser. If that is the case then congratulations, you have python and jupyter up and running in your system."
   ]
  },
  {
   "cell_type": "markdown",
   "metadata": {},
   "source": [
    "So lets get up and running with python. Don't worry, even if you haven't coded a single line in your life, you will be toying with python syntax in no time. "
   ]
  },
  {
   "cell_type": "markdown",
   "metadata": {},
   "source": [
    "## Hello Python:\n",
    "As the custom dictates, we will start our journey by saying hello to everyone. so lets begin"
   ]
  },
  {
   "cell_type": "code",
   "execution_count": 1,
   "metadata": {},
   "outputs": [
    {
     "name": "stdout",
     "output_type": "stream",
     "text": [
      "Hello everyone, what's up.\n",
      "who is ready for a blast with python?\n"
     ]
    }
   ],
   "source": [
    "print(\"Hello everyone, what's up.\\nwho is ready for a blast with python?\")"
   ]
  },
  {
   "cell_type": "markdown",
   "metadata": {},
   "source": [
    "Well I conveniently left out a few details. First things first, python is a scripting language. Now this is a complex topic in its own and all you need to know at this point of time is that scripting languages are executed line by line. So if I have 100 lines in a file filled with python statements(Yes, the line you just executed above is a python 'statement', keep up with the terms, for there will be a lot in this course), statement no 1 will execute first, then statement no 2 and so on. There is no compilation of the whole code at once and stuff like that. This also means that we can put only that code which is absolutely necessary strip away the extra fat. This is the reason python programs are so short.\n",
    "In a manner of speaking, you can create a python program with just one short line of code. The above line is a perfect example of this. \n",
    "Congratulations. You have just created your first program"
   ]
  },
  {
   "cell_type": "markdown",
   "metadata": {},
   "source": [
    "Just one more thing, please do not just shift+enter through the entire notebook. These notebooks are meant to teach you and the only way you can learn is by changing whatever you feel like changing and then experiencing the results. As a rule of thumb, if you haven't broken the code atleast 5 times, then you are not familiar with it. The rest is upto you"
   ]
  },
  {
   "cell_type": "markdown",
   "metadata": {},
   "source": [
    "## Your First Program:\n",
    "Now a single line program might be a bit too much to take in. So lets go the normal path,  and this is the first and the last time I am taking you through the normal path. Let's have a proper python program, and see how this executes. Type these lines in your favorite text editor( TYPE, DO NOT COPY PASTE )\n",
    "```python\n",
    "print(\"Hi, How are you\")\n",
    "print(\"This is a simple python program\")\n",
    "print(\"This only has print statements because that's all you know at the moment\")\n",
    "print(\"Don't worry, you will learn the rest of python in no time\")\n",
    "```\n",
    "\n",
    "Save this file as first.py in any folder you like and then navigate to that folder in terminal if you are on linux or mac, or powershell if you are on windows.\n",
    "Now run the code by typing this\n",
    "```bash\n",
    "python3 first.py\n",
    "```\n",
    "What is the output?"
   ]
  },
  {
   "cell_type": "markdown",
   "metadata": {},
   "source": [
    "Now put a # in the beginning of any line. Save it and run it again. See what happens\n",
    "You will notice that that particular line does not execute. This is because the python interpreter treats every line starting with # as comments. These comments are normally used to put text in code, mostly to explain a particular line of code to the reader. These can also be used in testing which will be explained later. For now, if you want to put anything in code which you don't want to be executed, put a start in the beginning"
   ]
  },
  {
   "cell_type": "markdown",
   "metadata": {},
   "source": [
    "## Jupyter or Python Shell or Running it directly\n",
    "The way you executed first.py, you ran the program directly from the terminal(or PowerShell if you please). Any way you choose going further, either putting it into a .py file and executing it directly, or by hitting each individual command in the python shell( The)"
   ]
  },
  {
   "cell_type": "code",
   "execution_count": 2,
   "metadata": {},
   "outputs": [
    {
     "name": "stdout",
     "output_type": "stream",
     "text": [
      "print this shubham\n"
     ]
    }
   ],
   "source": [
    "#This is to show that comments can be used to guide you in code\n",
    "print(\"print this\",\"shubham\") #comments can be put anywhere, python will treat anything after # as comment and won't execute"
   ]
  },
  {
   "cell_type": "markdown",
   "metadata": {},
   "source": [
    "What happened here, python printed shubham instead of name, try changing something and see what happens"
   ]
  },
  {
   "cell_type": "markdown",
   "metadata": {},
   "source": [
    "Now explaining this in very simple way, the print statement can print more than one arguments. These arguments can be anything as long as they have something to print. If there is nothing to print, python will just print none. These arguments are separated by commas inside the parentheses, and print statement can handle any no of parameteres."
   ]
  },
  {
   "cell_type": "markdown",
   "metadata": {},
   "source": [
    "## Mathematics and Python\n",
    "Python is widely used in mathematical analysis. Infact it is one of the most popular languages to be used for mathematical analysis. There are many popular libraries for mathematical analysis, and you will learn about them later. But for now lets introduce the most common mathematical operators:\n",
    "\n",
    "    + plus\n",
    "    - minus\n",
    "    / slash [for division]\n",
    "    * asterisk [for multiplication]\n",
    "    % percent [for remainder]\n",
    "    < less-than\n",
    "    > greater-than\n",
    "    <= less-than-equal\n",
    "    >= greater-than-equal\n",
    "    == equality \n",
    " \n",
    "Now one important distinction before we proceed further. Python treats everything as objects, now the concept of objects will be introduced later, but two important objects that we will used are strings and integers. Now integers are your daily real numbers without decimals. Strings can contain anything from alphabets to integers. In order to perform mathematical operations, we need integers, so that will mean no inverted commas(\" or ') around the numbers. Check out the following statements\n"
   ]
  },
  {
   "cell_type": "code",
   "execution_count": 3,
   "metadata": {},
   "outputs": [
    {
     "name": "stdout",
     "output_type": "stream",
     "text": [
      "This is addition, 6 + 2 =  8\n",
      "This is subtraction, 6 - 2 =  4\n",
      "This is multiplication, 6 * 2 =  12\n",
      "This is division, 6 / 2 =  3.0\n",
      "This is comparison, 6 < 2 =  False\n",
      "This is comparison, 6 > 2 =  True\n",
      "This is remainder, 5 % 2 =  1\n",
      "This is equality,5 == 5 True\n"
     ]
    }
   ],
   "source": [
    "print(\"This is addition, 6 + 2 = \",6+2)\n",
    "print(\"This is subtraction, 6 - 2 = \",6-2)\n",
    "print(\"This is multiplication, 6 * 2 = \",6*2)\n",
    "print(\"This is division, 6 / 2 = \",6/2)\n",
    "print(\"This is comparison, 6 < 2 = \",6<2)\n",
    "print(\"This is comparison, 6 > 2 = \",6>2)\n",
    "print(\"This is remainder, 5 % 2 = \",5%2)\n",
    "print(\"This is equality,5 == 5\",5==5)"
   ]
  },
  {
   "cell_type": "markdown",
   "metadata": {},
   "source": [
    "So go ahead and play with these for a while. Remember, the more you play here, the more you will understand"
   ]
  },
  {
   "cell_type": "markdown",
   "metadata": {},
   "source": [
    "## Variables:\n",
    "Now you can print things with print and you can do math. The next step is to learn about variables. In programming, a variable is nothing more than a name for something, just like my name or your name. Programmers use these variable names to make their code read more like English and because they have lousy memories. If they didn't use good names for things in their software, they'd get lost when they tried to read their code again."
   ]
  },
  {
   "cell_type": "code",
   "execution_count": 4,
   "metadata": {},
   "outputs": [],
   "source": [
    "year = 2015\n",
    "place = \"Hyderabad\"\n",
    "temperature = 34.5\n",
    "is_it_day = True # You can make it false depending upon the time you are reading this\n",
    "#Now lets print these variables"
   ]
  },
  {
   "cell_type": "code",
   "execution_count": 5,
   "metadata": {},
   "outputs": [
    {
     "name": "stdout",
     "output_type": "stream",
     "text": [
      "2015\n",
      "Hyderabad\n",
      "34.5\n",
      "True\n"
     ]
    }
   ],
   "source": [
    "print(year)\n",
    "print(place)\n",
    "print(temperature)\n",
    "print(is_it_day)"
   ]
  },
  {
   "cell_type": "markdown",
   "metadata": {},
   "source": [
    "Now here, year is a variable holding integer, place holds a string, temperature holds a float, which is a real number with decimals, if you don't provide a decimal, python will treat it as an integer. is_it_day is special for two reasons, firstly because it has underscores in the name, and secondly it holds a very special type of integer called a boolean value, which can either be True or False. Remember when you type it in exactly this way, then only python will treat it as a boolean.\n",
    "    Now one other thing that might confuse you is the = and == operator. The = operator is used for assigning values to variables, while the == is the equality operator which checks the equality of two values"
   ]
  },
  {
   "cell_type": "markdown",
   "metadata": {},
   "source": [
    "### Formatting Strings\n",
    "Formattting strings means printing strings in the way we want to. We can embed variables in them, decide the no of decimals in a float no inside the string and much more. Just enclose the variable name in {} and you are good to go. There are other ways also to format strings, but this is the easiest. In order to mark the string as formatted string, the letter f has to be put in the beginning of the string. This f should be before the inverted commas."
   ]
  },
  {
   "cell_type": "code",
   "execution_count": 6,
   "metadata": {},
   "outputs": [
    {
     "name": "stdout",
     "output_type": "stream",
     "text": [
      "Hyderabad in 2015 was pretty hot, temperature lowest at 34.5\n"
     ]
    }
   ],
   "source": [
    "print(f'{place} in {year} was pretty hot, temperature lowest at {temperature}')"
   ]
  },
  {
   "cell_type": "markdown",
   "metadata": {},
   "source": [
    "Another way of formatting string is shown below:"
   ]
  },
  {
   "cell_type": "code",
   "execution_count": 7,
   "metadata": {},
   "outputs": [
    {
     "name": "stdout",
     "output_type": "stream",
     "text": [
      "The value of pi to 5 decimal digits is 3.14, to 10 digits is 3.1415926536\n"
     ]
    }
   ],
   "source": [
    "pi = 3.1415926535897932384626433832795028841971693993751058209749445923078164062\n",
    "print('The value of pi to 5 decimal digits is {:.2f}, to 10 digits is {:.10f}'.format(pi,pi))"
   ]
  },
  {
   "cell_type": "code",
   "execution_count": 8,
   "metadata": {},
   "outputs": [
    {
     "name": "stdout",
     "output_type": "stream",
     "text": [
      "\tI'm tabbed in.\n",
      "I'm split\n",
      "on a line.\n",
      "I'm \\ a \\ cat.\n",
      "\n",
      "I'll do a list:\n",
      "\t* Cat food\n",
      "\t* Fishies\n",
      "\t* Catnip\n",
      "\t* Grass\n",
      "\n"
     ]
    }
   ],
   "source": [
    "tabby_cat = \"\\tI'm tabbed in.\"\n",
    "persian_cat = \"I'm split\\non a line.\"\n",
    "backslash_cat = \"I'm \\\\ a \\\\ cat.\"\n",
    "\n",
    "fat_cat = \"\"\"\n",
    "I'll do a list:\n",
    "\\t* Cat food\n",
    "\\t* Fishies\n",
    "\\t* Catnip\\n\\t* Grass\n",
    "\"\"\"\n",
    "print(tabby_cat)\n",
    "print(persian_cat)\n",
    "print(backslash_cat)\n",
    "print(fat_cat)"
   ]
  },
  {
   "cell_type": "markdown",
   "metadata": {},
   "source": [
    "### Escape Sequences\n",
    "What you have seen above are called escape sequesnces, two letter sequences which begin with backslash(\\) and another character. The python interpreter treats them differently. Here is a list of the most commomly used escape sequences in python.\n",
    "Escape What it does:\n",
    "    - \\\\   Backslash (\\)\n",
    "    - \\'   Single-quote (')\n",
    "    - \\\"   Double-quote (\")\n",
    "    - \\a   ASCII bell (BEL)\n",
    "    - \\b   ASCII backspace (BS)\n",
    "    - \\f   ASCII formfeed (FF)\n",
    "    - \\n   ASCII linefeed (LF)\n",
    "    - \\N{name}   Character named name in the Unicode database (Unicode only)\n",
    "    - \\r   Carriage return (CR)\n",
    "    - \\t   Horizontal tab (TAB)\n",
    "    - \\uxxxx   Character with 16-bit hex value xxxx\n",
    "    - \\Uxxxxxxxx   Character with 32-bit hex value xxxxxxxx\n",
    "    - \\v   ASCII vertical tab (VT)\n",
    "    - \\000   Character with octal value 000\n",
    "    - \\xhh   Character with hex value hh"
   ]
  },
  {
   "cell_type": "markdown",
   "metadata": {},
   "source": [
    "### Input and Output\n",
    "Taking inputs and sending outputs are very important in any programming languages. This is how any program interacts with humans or any other program for that matter. There are multiple ways in which we can take inputs and give outputs in python, or any programming language for that matter. One of them in taking inputs and sending outputs to and from the terminal. Now we have been using the print statement to print output to the terminal(Or Jupyter notebook) so you already know how to do that. Now let me show you how to take inputs from the terminal"
   ]
  },
  {
   "cell_type": "code",
   "execution_count": 9,
   "metadata": {},
   "outputs": [
    {
     "name": "stdout",
     "output_type": "stream",
     "text": [
      "Please enter your name: shubham\n",
      "The name entered is shubham\n"
     ]
    }
   ],
   "source": [
    "# the input statements prints a 'prompt' at the screen asking for input, and then returns the characters\n",
    "# entered as a string. That string has to be assigned to a variable to be used\n",
    "name = input(\"Please enter your name: \")\n",
    "print(f\"The name entered is {name}\")"
   ]
  },
  {
   "cell_type": "markdown",
   "metadata": {},
   "source": [
    "Depending upon whether you are using terminal or jupyter, the prompt display might be different, but they work exactly the same everywhere. The input statement takes a string as an argument, displays this argument beore taking the input. After the user has typed in the input, he/she has to press enter to submit it. The input statement takes the input recieved and returns it as a string. This part is really important.\n",
    "Input statement returns everything as a string, even integers supplied after the prompt are treated as string. Now in order to take integer or float, you will have to convert them manually. These are explained below:"
   ]
  },
  {
   "cell_type": "code",
   "execution_count": 10,
   "metadata": {},
   "outputs": [
    {
     "name": "stdout",
     "output_type": "stream",
     "text": [
      "Enter the cost price of the item: 50\n",
      "Enter the selling price of the item: 75\n",
      "The profit percentage is 50.00 %\n"
     ]
    }
   ],
   "source": [
    "# Profit percentage calculator\n",
    "cp = int(input(\"Enter the cost price of the item: \"))\n",
    "sp = int(input(\"Enter the selling price of the item: \"))\n",
    "profit = sp - cp\n",
    "profit_percentage = (profit/cp)*100\n",
    "print(\"The profit percentage is {:.2f} %\".format(profit_percentage))"
   ]
  },
  {
   "cell_type": "markdown",
   "metadata": {},
   "source": [
    "In the above example, we supplied a prompt string to each of the input statement to be asked at the terminal. The input statement returns a string which is then converted into an integer by the int function. This int function is a built-in function(aka BIFs), created and maintained by python. So in input and print. Python comes with a ton of these. Check it out on https://docs.python.org/3/library/functions.html"
   ]
  },
  {
   "cell_type": "markdown",
   "metadata": {},
   "source": [
    "### Conditionals\n",
    "We have to make decisons while creating a program. What if the value entered is greater than the threshold. What happens if the user chooses the third option, and how will you give the user the these options? This is where the conditionals come in. There are mainly two conditinals, the if statement and the switch case statement. lets start with the if statement.<br>\n",
    "<br>\n",
    "**[There is a deliberate mistake in this suite. This is for the students to stumble upon and learn. Corrected in the next suite]**"
   ]
  },
  {
   "cell_type": "code",
   "execution_count": 11,
   "metadata": {},
   "outputs": [
    {
     "name": "stdout",
     "output_type": "stream",
     "text": [
      "Enter a value: 10\n",
      "The value entered is greater than 10\n"
     ]
    }
   ],
   "source": [
    "value = int(input(\"Enter a value: \"))\n",
    "if value >= 10:\n",
    "    print(\"The value entered is greater than 10\")\n",
    "else:\n",
    "    print(\"The value entered is less than 10\")"
   ]
  },
  {
   "cell_type": "markdown",
   "metadata": {},
   "source": [
    "See a problem in that logic, the program prints the value entered is greater than 10 even if the value is exactly 10. Lets modify it a bit. You will understand what is going on"
   ]
  },
  {
   "cell_type": "code",
   "execution_count": 12,
   "metadata": {},
   "outputs": [
    {
     "name": "stdout",
     "output_type": "stream",
     "text": [
      "Enter a value: 10\n",
      "Value entered is exactly 10\n"
     ]
    }
   ],
   "source": [
    "value = int(input(\"Enter a value: \"))\n",
    "if value > 10:\n",
    "    print(\"Value entered is greater than 10\")\n",
    "elif value == 10:\n",
    "    print(\"Value entered is exactly 10\")\n",
    "else:\n",
    "    print(\"Value entered is less than 10\")"
   ]
  },
  {
   "cell_type": "markdown",
   "metadata": {},
   "source": [
    "Here, the elif statement stands for else if. This puts another conditon in the if suite(Yeah, the block of code indented in the if statement is called the if suite, every indented block of code is a suite in pyhton, just nomenclature)"
   ]
  },
  {
   "cell_type": "markdown",
   "metadata": {},
   "source": [
    "Now lets ask python to see whether everyone is persent in the class or not. That is whether we have 100% attendance or not. Now since our python program can't know how many of us are here(Atleast not yet, we will do this also using python later), we will have to feed the number ourselves. So do not cheat"
   ]
  },
  {
   "cell_type": "code",
   "execution_count": 13,
   "metadata": {},
   "outputs": [
    {
     "name": "stdout",
     "output_type": "stream",
     "text": [
      "Enter the current strength of the classroom: 50\n",
      "We have 100% attendance\n"
     ]
    }
   ],
   "source": [
    "total_strength = 50\n",
    "current_strength = int(input(\"Enter the current strength of the classroom: \"))\n",
    "if current_strength == total_strength:\n",
    "    print(\"We have 100% attendance\")\n",
    "elif current_strength < total_strength:\n",
    "    print(\"We don't have 100% attendance\")\n",
    "else:\n",
    "    print(\"Really, you need to learn how to count Mister\")"
   ]
  },
  {
   "cell_type": "markdown",
   "metadata": {},
   "source": [
    "### Looping\n",
    "Looping is an important part of any programmin language. Python comes with two loop constructs, while and for. The for loop uses a range BIF which you will experience below, try and find out how it works"
   ]
  },
  {
   "cell_type": "code",
   "execution_count": 14,
   "metadata": {},
   "outputs": [
    {
     "name": "stdout",
     "output_type": "stream",
     "text": [
      "The number is: 0\n",
      "The number is: 1\n",
      "The number is: 2\n",
      "The number is: 3\n",
      "The number is: 4\n",
      "The number is: 5\n",
      "The number is: 6\n",
      "The number is: 7\n",
      "The number is: 8\n",
      "The number is: 9\n"
     ]
    }
   ],
   "source": [
    "# The while loop:\n",
    "num = 0\n",
    "while num < 10:\n",
    "    print(f\"The number is: {num}\")\n",
    "    num += 1"
   ]
  },
  {
   "cell_type": "code",
   "execution_count": 15,
   "metadata": {},
   "outputs": [
    {
     "name": "stdout",
     "output_type": "stream",
     "text": [
      "The number is: 0\n",
      "The number is: 1\n",
      "The number is: 2\n",
      "The number is: 3\n",
      "The number is: 4\n",
      "The number is: 5\n",
      "The number is: 6\n",
      "The number is: 7\n",
      "The number is: 8\n",
      "The number is: 9\n"
     ]
    }
   ],
   "source": [
    "# The for loop:\n",
    "for num in range(0,10,1):\n",
    "    print(f\"The number is: {num}\")"
   ]
  },
  {
   "cell_type": "markdown",
   "metadata": {},
   "source": [
    "Go Ahead and play with these to find out what they do, especially the range function. This function will come in pretty handy when you would like to work with things involving a sequence of numbers"
   ]
  },
  {
   "cell_type": "markdown",
   "metadata": {},
   "source": [
    "### Functions:\n",
    "Functions are named block of elements. If you want to use a piece of your code again and again, you put it into a function. The structure of any function is simple, it takes some value(s) which are called the parameters of the function, processes them and return some output. Check out the greeting function shown below:"
   ]
  },
  {
   "cell_type": "code",
   "execution_count": 16,
   "metadata": {},
   "outputs": [],
   "source": [
    "def greet(name):\n",
    "    message = f\"Hello {name}, How are you doing?\"\n",
    "    return message"
   ]
  },
  {
   "cell_type": "markdown",
   "metadata": {},
   "source": [
    "Now, we 'call' the function, which is coding nomenclature for invoking this piece of code, and pass an argument to it. The variable defined in the function is called a parameter. The value passed to that parameter is called an argument, always remember these. Here is a demo:"
   ]
  },
  {
   "cell_type": "code",
   "execution_count": 17,
   "metadata": {},
   "outputs": [
    {
     "name": "stdout",
     "output_type": "stream",
     "text": [
      "Hello Shubham, How are you doing?\n"
     ]
    }
   ],
   "source": [
    "msg = greet('Shubham')\n",
    "print(msg)\n",
    "# here, 'shubham' is an argument passed to the name parameter in the greet function,\n",
    "# the return value is stored in msg.\n",
    "# msg itself is passed into print function"
   ]
  },
  {
   "cell_type": "code",
   "execution_count": 18,
   "metadata": {},
   "outputs": [
    {
     "name": "stdout",
     "output_type": "stream",
     "text": [
      "Hello Anand, How are you doing?\n",
      "Hello Vijay, How are you doing?\n"
     ]
    }
   ],
   "source": [
    "# you can also invoke the function like this:\n",
    "print(greet('Anand'))\n",
    "# OR\n",
    "print(greet(name='Vijay'))"
   ]
  },
  {
   "cell_type": "markdown",
   "metadata": {},
   "source": [
    "See, they both work awesomely"
   ]
  },
  {
   "cell_type": "markdown",
   "metadata": {},
   "source": [
    "Now, python code is mostly organized in this way, all the functions that you need for a project are put into a file which is called a module. A collection of modules is called a library. Pyhton lets you access this module by the dot(.) notation. Python has lots of functions, but at the time of starting, only the BIFs are available for you. Whatever you need the rest has to be imported from the python's vast collection of libraries. Confused, let me show you something"
   ]
  },
  {
   "cell_type": "code",
   "execution_count": 19,
   "metadata": {},
   "outputs": [
    {
     "name": "stdout",
     "output_type": "stream",
     "text": [
      "32.0\n"
     ]
    }
   ],
   "source": [
    "# Lets import the math library first\n",
    "import math\n",
    "# Now lets calculate 2 to the power 5, or anything else which you want\n",
    "res = math.pow(2,5)\n",
    "print(res)"
   ]
  },
  {
   "cell_type": "markdown",
   "metadata": {},
   "source": [
    "Here, math is a library. In the math library we want to access the pow function. So we call the pow function of math library through the dot notation, which is math.pow().\n",
    "<br>\n",
    "Now in this pow function, we pass arguments, the first argument is the base, and the second argument is the exponent. The function pow returns a float with the value base to the exponent(th)"
   ]
  },
  {
   "cell_type": "markdown",
   "metadata": {},
   "source": [
    "## Your First Application, A Calculator Module\n",
    "Follow the instructions here to create a calculator. Once you have created, the calculator, I will show you how to create a module out of it."
   ]
  },
  {
   "cell_type": "code",
   "execution_count": 20,
   "metadata": {},
   "outputs": [],
   "source": [
    "def add(x,y):\n",
    "    return x+y\n",
    "\n",
    "def sub(x,y):\n",
    "    return x-y\n",
    "\n",
    "def mul(x,y):\n",
    "    return x*y\n",
    "\n",
    "def div(x,y):\n",
    "    if y == 0:\n",
    "        return None\n",
    "    else:\n",
    "        return x/y"
   ]
  },
  {
   "cell_type": "markdown",
   "metadata": {},
   "source": [
    "Here we have introduced a new term None. None is actually nothing. If you want something to have no value, assign None to it. If you don't want to return anything, return None."
   ]
  },
  {
   "cell_type": "markdown",
   "metadata": {},
   "source": [
    "Ahoy, you have just created a new application(Well you are well within your rights to think so.). Now lets create a module out of it. Paste this code into a file called calc.py. Now it has to be in the same directory( Or folder if you are on Windows), otherwise you won't be able to import it. And then do this"
   ]
  },
  {
   "cell_type": "code",
   "execution_count": 21,
   "metadata": {},
   "outputs": [],
   "source": [
    "import calc"
   ]
  },
  {
   "cell_type": "code",
   "execution_count": 22,
   "metadata": {},
   "outputs": [
    {
     "name": "stdout",
     "output_type": "stream",
     "text": [
      "92\n"
     ]
    }
   ],
   "source": [
    "print(calc.add(57,35))"
   ]
  },
  {
   "cell_type": "code",
   "execution_count": 23,
   "metadata": {},
   "outputs": [
    {
     "name": "stdout",
     "output_type": "stream",
     "text": [
      "2397\n"
     ]
    }
   ],
   "source": [
    "print(calc.mul(51,47))"
   ]
  },
  {
   "cell_type": "code",
   "execution_count": 24,
   "metadata": {},
   "outputs": [
    {
     "name": "stdout",
     "output_type": "stream",
     "text": [
      "2.6666666666666665\n"
     ]
    }
   ],
   "source": [
    "print(calc.div(8,3))"
   ]
  },
  {
   "cell_type": "code",
   "execution_count": 25,
   "metadata": {},
   "outputs": [
    {
     "name": "stdout",
     "output_type": "stream",
     "text": [
      "-3\n"
     ]
    }
   ],
   "source": [
    "print(calc.sub(6,9))"
   ]
  },
  {
   "cell_type": "code",
   "execution_count": 26,
   "metadata": {},
   "outputs": [
    {
     "name": "stdout",
     "output_type": "stream",
     "text": [
      "None\n"
     ]
    }
   ],
   "source": [
    "print(calc.div(1,0))"
   ]
  },
  {
   "cell_type": "markdown",
   "metadata": {},
   "source": [
    "I hope everything would have been aparent by now. So why don't you go ahead and start adding your own functions to this mix. Like say a square or a squareroot or matrix multiplication. **Let your creative juices flow, also this is your first assignment.**"
   ]
  },
  {
   "cell_type": "markdown",
   "metadata": {},
   "source": [
    "## Lists\n",
    "Lists are a type of data structure in python. And as you may have guessed with the name, they work exactly like lists in our daily life. You can add items, remove items, even add another list to a list and much more. So without further ado, lets start with lists"
   ]
  },
  {
   "cell_type": "code",
   "execution_count": 27,
   "metadata": {},
   "outputs": [],
   "source": [
    "#Here is a list of some cities in India\n",
    "cities = ['Hyderabad','New Delhi','Mumbai']"
   ]
  },
  {
   "cell_type": "markdown",
   "metadata": {},
   "source": [
    "here, the square brackets is how python knows it is a list, the items are separated by commas, and since the items are strings, they are surrounded by quotes"
   ]
  },
  {
   "cell_type": "code",
   "execution_count": 28,
   "metadata": {},
   "outputs": [
    {
     "name": "stdout",
     "output_type": "stream",
     "text": [
      "['Hyderabad', 'New Delhi', 'Mumbai']\n"
     ]
    }
   ],
   "source": [
    "#Now lets print the lists:\n",
    "print(cities)"
   ]
  },
  {
   "cell_type": "markdown",
   "metadata": {},
   "source": [
    "Now lets learn a few more important aspects about lists, like iterating through them, adding new items, extending this list and much more"
   ]
  },
  {
   "cell_type": "code",
   "execution_count": 29,
   "metadata": {},
   "outputs": [
    {
     "name": "stdout",
     "output_type": "stream",
     "text": [
      "Hyderabad\n",
      "New Delhi\n",
      "Mumbai\n"
     ]
    }
   ],
   "source": [
    "#Iterate through the list:\n",
    "for i in cities:\n",
    "    print(i)"
   ]
  },
  {
   "cell_type": "markdown",
   "metadata": {},
   "source": [
    "Now pay attention. The for loop works on something which is iterable, that is something which can iterate. In our earlier examples, we had used the range function, which returned an integer from the iterable item. In this case we have strings returned from the iterable item"
   ]
  },
  {
   "cell_type": "code",
   "execution_count": 30,
   "metadata": {},
   "outputs": [],
   "source": [
    "#adding some more items to the list:\n",
    "cities.append('Chennai')"
   ]
  },
  {
   "cell_type": "code",
   "execution_count": 31,
   "metadata": {},
   "outputs": [
    {
     "data": {
      "text/plain": [
       "['Hyderabad', 'New Delhi', 'Mumbai', 'Chennai']"
      ]
     },
     "execution_count": 31,
     "metadata": {},
     "output_type": "execute_result"
    }
   ],
   "source": [
    "cities"
   ]
  },
  {
   "cell_type": "markdown",
   "metadata": {},
   "source": [
    "Now here is an intersting thing about lists, lists don't need to be assigned to a variable, just wrapping items(which can be anything from integers to objects to lists to mixed types, anything at all) and python will treat it as list. Here:"
   ]
  },
  {
   "cell_type": "code",
   "execution_count": 32,
   "metadata": {},
   "outputs": [
    {
     "name": "stdout",
     "output_type": "stream",
     "text": [
      "[1, 2, 3, 4, 5, 6]\n"
     ]
    }
   ],
   "source": [
    "print([1,2,3,4,5,6])"
   ]
  },
  {
   "cell_type": "markdown",
   "metadata": {},
   "source": [
    "We don't have to assign it to a variable. here are some more list functions"
   ]
  },
  {
   "cell_type": "code",
   "execution_count": 33,
   "metadata": {},
   "outputs": [],
   "source": [
    "# Extending another list with this existing list:\n",
    "new_cities = ['Kolkata','Bangalore']\n",
    "cities.extend(new_cities)"
   ]
  },
  {
   "cell_type": "code",
   "execution_count": 34,
   "metadata": {},
   "outputs": [
    {
     "name": "stdout",
     "output_type": "stream",
     "text": [
      "['Hyderabad', 'New Delhi', 'Mumbai', 'Chennai', 'Kolkata', 'Bangalore']\n"
     ]
    }
   ],
   "source": [
    "print(cities)"
   ]
  },
  {
   "cell_type": "code",
   "execution_count": 35,
   "metadata": {},
   "outputs": [
    {
     "name": "stdout",
     "output_type": "stream",
     "text": [
      "['Bangalore', 'Chennai', 'Hyderabad', 'Kolkata', 'Mumbai', 'New Delhi']\n"
     ]
    }
   ],
   "source": [
    "#Now lets sort this list:\n",
    "cities.sort()\n",
    "print(cities)"
   ]
  },
  {
   "cell_type": "markdown",
   "metadata": {},
   "source": [
    "### Slicing a list\n",
    "Now this is an important property of lists that we will use a lot in Data Science, so pay attention.\n",
    "Slicing is as you can guess, slicing apart the list into only the parts we need. Basically it has three parts separated by semicolons, it looks like this\n",
    "<br> **i:f:s**<br>\n",
    "Here, **i** denotes the initial index of the list, from where we want to start our slice, **f** denotes the final position of the list which the slice exclides, and **s** denotes the step size, for example\n",
    "```python\n",
    "a[0:10:2]\n",
    "```\n",
    "prints the values in the list a starting from index 0 till index 10(**excluding index 10)** with a step size of 2\n",
    "Hers is the actual code"
   ]
  },
  {
   "cell_type": "code",
   "execution_count": 36,
   "metadata": {},
   "outputs": [
    {
     "name": "stdout",
     "output_type": "stream",
     "text": [
      "[0, 1, 2, 3, 4, 5, 6, 7, 8, 9, 10]\n",
      "#############\n",
      "[0, 2, 4, 6, 8]\n"
     ]
    }
   ],
   "source": [
    "a = [] #here we initialize an empty list. Notice the position of the comment also\n",
    "for i in range(0,11):\n",
    "    a.append(i)\n",
    "print(a)\n",
    "print('#############') #Just for a divider\n",
    "print(a[0:10:2])"
   ]
  },
  {
   "cell_type": "markdown",
   "metadata": {},
   "source": [
    "See the difference. Now if you leave any field blank, it will just assume default values. Watch"
   ]
  },
  {
   "cell_type": "code",
   "execution_count": 37,
   "metadata": {},
   "outputs": [
    {
     "name": "stdout",
     "output_type": "stream",
     "text": [
      "[0, 1, 2, 3, 4]\n"
     ]
    }
   ],
   "source": [
    "print(a[:5:])"
   ]
  },
  {
   "cell_type": "code",
   "execution_count": 38,
   "metadata": {},
   "outputs": [
    {
     "name": "stdout",
     "output_type": "stream",
     "text": [
      "[0, 2, 4, 6, 8, 10]\n"
     ]
    }
   ],
   "source": [
    "print(a[::2])"
   ]
  },
  {
   "cell_type": "code",
   "execution_count": 39,
   "metadata": {},
   "outputs": [
    {
     "name": "stdout",
     "output_type": "stream",
     "text": [
      "[4, 5, 6, 7, 8, 9, 10]\n"
     ]
    }
   ],
   "source": [
    "print(a[4::])"
   ]
  },
  {
   "cell_type": "markdown",
   "metadata": {},
   "source": [
    "Now why don't you go and play with list a little bit. Especially the slicing part. See if you get the hang of it yet."
   ]
  },
  {
   "cell_type": "markdown",
   "metadata": {},
   "source": [
    "### Negative Index in slices:\n",
    "Slices support negative indices also. So does list Understand it this way, whatever positive indices do, negative indices do the exact opposite. Watch this"
   ]
  },
  {
   "cell_type": "code",
   "execution_count": 40,
   "metadata": {},
   "outputs": [
    {
     "name": "stdout",
     "output_type": "stream",
     "text": [
      "Mumbai\n",
      "Hyderabad\n",
      "Chennai\n",
      "New Delhi\n"
     ]
    }
   ],
   "source": [
    "print(cities[4])\n",
    "print(cities[-4])\n",
    "print(cities[1])\n",
    "print(cities[-1]) #This one is interesting"
   ]
  },
  {
   "cell_type": "markdown",
   "metadata": {},
   "source": [
    "Now our positive index start from 0 as we all know, so our negative index can't start from 0. They start from -1. So any item in the list has two indices, one positive from the left hand side increasing towards the right, and one negative index starting at -1 at the right end decreasing towards the left<br>\n",
    "With this in mind we can do a lot in this list."
   ]
  },
  {
   "cell_type": "code",
   "execution_count": 41,
   "metadata": {},
   "outputs": [
    {
     "data": {
      "text/plain": [
       "[6, 7, 8, 9, 10]"
      ]
     },
     "execution_count": 41,
     "metadata": {},
     "output_type": "execute_result"
    }
   ],
   "source": [
    "#Finding the last  5 items in the list:\n",
    "a[-5::]"
   ]
  },
  {
   "cell_type": "code",
   "execution_count": 42,
   "metadata": {},
   "outputs": [
    {
     "data": {
      "text/plain": [
       "[10, 9, 8, 7, 6, 5, 4, 3, 2, 1, 0]"
      ]
     },
     "execution_count": 42,
     "metadata": {},
     "output_type": "execute_result"
    }
   ],
   "source": [
    "#Very Important. Reversing the list\n",
    "a[-1::-1]"
   ]
  },
  {
   "cell_type": "code",
   "execution_count": 43,
   "metadata": {},
   "outputs": [
    {
     "data": {
      "text/plain": [
       "[10, 8, 6, 4, 2, 0]"
      ]
     },
     "execution_count": 43,
     "metadata": {},
     "output_type": "execute_result"
    }
   ],
   "source": [
    "#Reversing with an interval\n",
    "a[-1::-2]"
   ]
  },
  {
   "cell_type": "markdown",
   "metadata": {},
   "source": [
    "## Your Second Application in Python\n",
    "So now that you know about functions, libraries, lists and what now. Lets build a weather app by crawling the internet. **Crawling** is a term used to  browse the internet using an internet bot. Here's a definition from wikipedia: <br>\"A Web crawler, sometimes called a spider or spiderbot and often shortened to crawler, is an Internet bot that systematically browses the World Wide Web, typically for the purpose of Web indexing.\"<br>\n",
    "I will explain each and every bit of it, but only as much as you need to know right now. Make sure you have the chromedriver in this current folder, I will explain what it is shortly"
   ]
  },
  {
   "cell_type": "code",
   "execution_count": 44,
   "metadata": {},
   "outputs": [],
   "source": [
    "from selenium import webdriver # Here we just want the webdriver, so we are instructing pyhton to import\n",
    "#                                just the webdriver class from the selenium library"
   ]
  },
  {
   "cell_type": "code",
   "execution_count": 45,
   "metadata": {},
   "outputs": [],
   "source": [
    "path_to_chromedriver = \"./chromedriver\"    #This is where we specify the path of the chrome driver\n",
    "# chromedriver connects selenium module to the internet. So our application can browse the web\n",
    "driver = webdriver.Chrome(path_to_chromedriver) #Initiating the webdriver class"
   ]
  },
  {
   "cell_type": "code",
   "execution_count": 46,
   "metadata": {},
   "outputs": [],
   "source": [
    "# here we define the prefix and the suffix of our url search string\n",
    "prefix = \"https://www.google.com/search?source=hp&ei=4QHTXo7iOtTH4-EP0JGYiAY&q=weather+\"\n",
    "suffix = \"&oq=weather+\""
   ]
  },
  {
   "cell_type": "code",
   "execution_count": 47,
   "metadata": {},
   "outputs": [],
   "source": [
    "#This generates the url string\n",
    "def get_url(city,prefix=prefix,suffix=suffix):\n",
    "    city = \"+\".join(city.split())    # This line first splits the string by spaces, and then joins then using +\n",
    "    return prefix+city+suffix+city"
   ]
  },
  {
   "cell_type": "code",
   "execution_count": 48,
   "metadata": {},
   "outputs": [
    {
     "name": "stdout",
     "output_type": "stream",
     "text": [
      "https://www.google.com/search?source=hp&ei=4QHTXo7iOtTH4-EP0JGYiAY&q=weather+New+Delhi&oq=weather+New+Delhi\n"
     ]
    }
   ],
   "source": [
    "print(get_url('New Delhi'))"
   ]
  },
  {
   "cell_type": "code",
   "execution_count": 49,
   "metadata": {},
   "outputs": [],
   "source": [
    "# Now Lets extract some weather data:\n",
    "def get_data(city):\n",
    "    driver.get(get_url(city))\n",
    "    temp = driver.find_element_by_id('wob_tm').text+\"C\"\n",
    "    prec = driver.find_element_by_id('wob_pp').text\n",
    "    hum = driver.find_element_by_id('wob_hm').text\n",
    "    wind = driver.find_element_by_id('wob_ws').text\n",
    "    data = [temp,prec,hum,wind]\n",
    "    return data"
   ]
  },
  {
   "cell_type": "code",
   "execution_count": 50,
   "metadata": {},
   "outputs": [],
   "source": [
    "hyd_weather = get_data('Hyderabad')"
   ]
  },
  {
   "cell_type": "code",
   "execution_count": 51,
   "metadata": {},
   "outputs": [
    {
     "data": {
      "text/plain": [
       "['34C', '14%', '56%', '6 km/h']"
      ]
     },
     "execution_count": 51,
     "metadata": {},
     "output_type": "execute_result"
    }
   ],
   "source": [
    "hyd_weather"
   ]
  },
  {
   "cell_type": "code",
   "execution_count": 52,
   "metadata": {},
   "outputs": [],
   "source": [
    "patna_weather = get_data('Patna')"
   ]
  },
  {
   "cell_type": "code",
   "execution_count": 53,
   "metadata": {},
   "outputs": [
    {
     "data": {
      "text/plain": [
       "['36C', '7%', '49%', '8 km/h']"
      ]
     },
     "execution_count": 53,
     "metadata": {},
     "output_type": "execute_result"
    }
   ],
   "source": [
    "patna_weather"
   ]
  },
  {
   "cell_type": "code",
   "execution_count": 54,
   "metadata": {},
   "outputs": [],
   "source": [
    "ndls_weather = get_data('New Delhi')"
   ]
  },
  {
   "cell_type": "code",
   "execution_count": 55,
   "metadata": {},
   "outputs": [
    {
     "data": {
      "text/plain": [
       "['34C', '3%', '40%', '10 km/h']"
      ]
     },
     "execution_count": 55,
     "metadata": {},
     "output_type": "execute_result"
    }
   ],
   "source": [
    "ndls_weather"
   ]
  },
  {
   "cell_type": "markdown",
   "metadata": {},
   "source": [
    "Now let's collect all this data in a single list, which we will call a list of lists, or in the mathematical sense, a matrix.\n",
    "<br>\n",
    "But before that, lets insert another item in the weather data lists that we had"
   ]
  },
  {
   "cell_type": "code",
   "execution_count": 56,
   "metadata": {},
   "outputs": [],
   "source": [
    "hyd_weather.insert(0,\"Hyderabad\") # 0 is the index position we want to insert \"Hyderabad\""
   ]
  },
  {
   "cell_type": "code",
   "execution_count": 57,
   "metadata": {},
   "outputs": [
    {
     "name": "stdout",
     "output_type": "stream",
     "text": [
      "['Hyderabad', '34C', '14%', '56%', '6 km/h']\n"
     ]
    }
   ],
   "source": [
    "print(hyd_weather)"
   ]
  },
  {
   "cell_type": "markdown",
   "metadata": {},
   "source": [
    "Did you observe what happened? Similarly, lets observe for others."
   ]
  },
  {
   "cell_type": "code",
   "execution_count": 58,
   "metadata": {},
   "outputs": [],
   "source": [
    "patna_weather.insert(0,\"Patna\")"
   ]
  },
  {
   "cell_type": "code",
   "execution_count": 59,
   "metadata": {},
   "outputs": [],
   "source": [
    "ndls_weather.insert(0,\"New Delhi\")"
   ]
  },
  {
   "cell_type": "code",
   "execution_count": 60,
   "metadata": {},
   "outputs": [],
   "source": [
    "# Now lets combine them into a mega list:\n",
    "data = [hyd_weather,patna_weather,ndls_weather]"
   ]
  },
  {
   "cell_type": "code",
   "execution_count": 61,
   "metadata": {},
   "outputs": [
    {
     "data": {
      "text/plain": [
       "[['Hyderabad', '34C', '14%', '56%', '6 km/h'],\n",
       " ['Patna', '36C', '7%', '49%', '8 km/h'],\n",
       " ['New Delhi', '34C', '3%', '40%', '10 km/h']]"
      ]
     },
     "execution_count": 61,
     "metadata": {},
     "output_type": "execute_result"
    }
   ],
   "source": [
    "data"
   ]
  },
  {
   "cell_type": "markdown",
   "metadata": {},
   "source": [
    "## CSV Files and storing data\n",
    "Now since we have collected this very important weather data, lets store it into a csv file. **CSV** stand for comma separated values. So a CSV file looks pretty much like this list above, without the braces ofcourse. So all we need to do is open a file and write the data. Let's have it"
   ]
  },
  {
   "cell_type": "code",
   "execution_count": 62,
   "metadata": {},
   "outputs": [],
   "source": [
    "file = open(\"data.csv\",'a') #Opens a file called data.csv if it exists and appends the data, Creates the file if not there\n",
    "# The a argument specifies that new values are to be appended into the existing values\n",
    "import csv\n",
    "writer = csv.writer(file)\n",
    "for i in data:\n",
    "    writer.writerow(i)\n",
    "file.close()"
   ]
  },
  {
   "cell_type": "markdown",
   "metadata": {},
   "source": [
    "#### Now that you know how to collect data, how frequently will you collect, and for how many cities?"
   ]
  }
 ],
 "metadata": {
  "kernelspec": {
   "display_name": "ai_center",
   "language": "python",
   "name": "ai_center"
  },
  "language_info": {
   "codemirror_mode": {
    "name": "ipython",
    "version": 3
   },
   "file_extension": ".py",
   "mimetype": "text/x-python",
   "name": "python",
   "nbconvert_exporter": "python",
   "pygments_lexer": "ipython3",
   "version": "3.8.2"
  }
 },
 "nbformat": 4,
 "nbformat_minor": 4
}
